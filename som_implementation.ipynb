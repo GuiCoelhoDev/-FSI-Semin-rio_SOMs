{
  "nbformat": 4,
  "nbformat_minor": 0,
  "metadata": {
    "colab": {
      "name": "som_implementation.ipynb",
      "provenance": [],
      "collapsed_sections": [
        "xjaxF0tuHpND"
      ]
    },
    "kernelspec": {
      "name": "python3",
      "display_name": "Python 3"
    },
    "language_info": {
      "name": "python"
    },
    "accelerator": "GPU"
  },
  "cells": [
    {
      "cell_type": "markdown",
      "metadata": {
        "id": "kFjkg04Vyc23"
      },
      "source": [
        "# Imports"
      ]
    },
    {
      "cell_type": "code",
      "metadata": {
        "id": "QWReFXVVu6DI",
        "colab": {
          "base_uri": "https://localhost:8080/"
        },
        "outputId": "a7a0ab86-9013-475a-be86-1156c8bf6ae9"
      },
      "source": [
        "!pip install sklearn-som\n",
        "from sklearn_som.som import SOM as som_lib"
      ],
      "execution_count": null,
      "outputs": [
        {
          "output_type": "stream",
          "name": "stdout",
          "text": [
            "Requirement already satisfied: sklearn-som in /usr/local/lib/python3.7/dist-packages (1.1.0)\n",
            "Requirement already satisfied: numpy in /usr/local/lib/python3.7/dist-packages (from sklearn-som) (1.19.5)\n"
          ]
        }
      ]
    },
    {
      "cell_type": "code",
      "metadata": {
        "id": "z4RzeggEyars"
      },
      "source": [
        "import numpy as np\n",
        "import pandas as pd\n",
        "from sklearn.model_selection import train_test_split\n",
        "from sklearn.decomposition import PCA\n",
        "from sklearn.preprocessing import MinMaxScaler\n",
        "from sklearn.utils import shuffle\n",
        "from tqdm import tqdm\n",
        "import matplotlib.pyplot as plt\n",
        "\n",
        "# datasets\n",
        "from sklearn.datasets import fetch_covtype\n",
        "from sklearn.datasets import load_iris"
      ],
      "execution_count": 16,
      "outputs": []
    },
    {
      "cell_type": "markdown",
      "metadata": {
        "id": "7HTEK8rAyfEm"
      },
      "source": [
        "# Dataset"
      ]
    },
    {
      "cell_type": "code",
      "metadata": {
        "id": "y915wW9lygQH"
      },
      "source": [
        "iris = load_iris()\n",
        "x = iris.data[:,2:]\n",
        "y = iris.target\n",
        "\n",
        "# x = np.random.random((1000, 2))\n",
        "# y = np.ones(1000)"
      ],
      "execution_count": 2,
      "outputs": []
    },
    {
      "cell_type": "code",
      "metadata": {
        "id": "tNugHxErysvu"
      },
      "source": [
        "x = MinMaxScaler().fit_transform(x)"
      ],
      "execution_count": null,
      "outputs": []
    },
    {
      "cell_type": "markdown",
      "metadata": {
        "id": "xjaxF0tuHpND"
      },
      "source": [
        "# Using SOM from sklearn_som"
      ]
    },
    {
      "cell_type": "code",
      "metadata": {
        "id": "ylZ0Cns4HwQy"
      },
      "source": [
        "# %%time\n",
        "# somlib = som_lib(m=3, n=3, dim=xtrain.shape[1])\n",
        "# somlib.fit(xtrain)\n",
        "# predictions = somlib.predict(xtrain)\n",
        "# print(len(predictions))\n",
        "# newx = somlib._locations[predictions]"
      ],
      "execution_count": null,
      "outputs": []
    },
    {
      "cell_type": "markdown",
      "metadata": {
        "id": "3vPvYvxP1TNt"
      },
      "source": [
        "# SOM"
      ]
    },
    {
      "cell_type": "code",
      "metadata": {
        "colab": {
          "base_uri": "https://localhost:8080/"
        },
        "id": "0eGJs3z7rHIM",
        "outputId": "b88b1523-9f86-48b6-c401-eac91c625699"
      },
      "source": [
        "t = np.linspace(-1, 1, (3*2)).reshape(3, 2)\n",
        "t2 = np.linspace(-1, 1, (3*2)).reshape(3, 2)\n",
        "print(t)\n",
        "print(t2)"
      ],
      "execution_count": null,
      "outputs": [
        {
          "output_type": "stream",
          "name": "stdout",
          "text": [
            "[[-1.  -0.6]\n",
            " [-0.2  0.2]\n",
            " [ 0.6  1. ]]\n",
            "[[-1.  -0.6]\n",
            " [-0.2  0.2]\n",
            " [ 0.6  1. ]]\n"
          ]
        }
      ]
    },
    {
      "cell_type": "code",
      "metadata": {
        "id": "wiPvEi2V1UlU"
      },
      "source": [
        "class SOM():\n",
        "    def __init__(self, m=3, n=3, dim=2, sigma=0.05, epochs=20, learning_rate=0.85, usePCA=False):\n",
        "        \"\"\"\n",
        "        Parameters\n",
        "        ----------\n",
        "        m : int, default=3\n",
        "            The shape along dimension 0 (vertical) of the SOM.\n",
        "        n : int, default=3\n",
        "            The shape along dimesnion 1 (horizontal) of the SOM.\n",
        "        \"\"\"\n",
        "        # Initialize descriptive features of SOM\n",
        "        self.usePCA = usePCA\n",
        "        self.m = m\n",
        "        self.n = n\n",
        "        self.epochs = epochs\n",
        "        self.dim = dim\n",
        "        self.learning_rate = learning_rate\n",
        "        self.learning_rate0 = learning_rate\n",
        "        self.radius = sigma\n",
        "        self.radius0 = self.radius \n",
        "\n",
        "        self.predictions = None\n",
        "  \n",
        "        self.map = np.random.random((m*n, dim))\n",
        "        self.map_locations = np.argwhere(np.ones(shape=(m, n)))\n",
        "        \n",
        " \n",
        "\n",
        "    def __initWithPCA(self, x=None):\n",
        "      principalaxes = PCA(2).fit(x).components_\n",
        "      a1 = np.linspace(-1, 1, (self.m*self.dim)).reshape(self.m, self.dim)\n",
        "      a2 = np.linspace(-1, 1, (self.n*self.dim)).reshape(self.n, self.dim)\n",
        "      #a1 = np.random.random((self.m, self.dim))\n",
        "      #a2 = np.random.random((self.n, self.dim))\n",
        "      self.map = np.array([a1[m]*principalaxes[0] + a2[n]*principalaxes[1] for m in range(self.m) for n in range(self.n)])\n",
        "\n",
        "    def __euclidian(self, v1, v2):\n",
        "      return np.linalg.norm(v1-v2, axis=1)\n",
        "\n",
        "\n",
        "    def __findbmu(self, v):\n",
        "      distances = self.__euclidian(v, self.map)\n",
        "      bmu = np.argmin(distances)\n",
        "      return bmu\n",
        "\n",
        "    # neighborhood function\n",
        "    def __neighborhoodFunction(self, bmu):\n",
        "      bmu_location = self.map_locations[bmu]\n",
        "      bmu_location_stack = np.stack([bmu_location]*(self.m*self.n), axis=0)\n",
        "      distances = self.__euclidian(bmu_location_stack, self.map_locations) # distances from neighborhood indices\n",
        "      h = self.learning_rate * np.exp((- distances / (2 * self.radius**2))) # list of hci for each node\n",
        "      hstack = np.stack([h]*(self.dim), axis=1)\n",
        "      return hstack\n",
        "    \n",
        "    def __update_weights(self, bmu, x, hstack):\n",
        "      xstack = np.stack([x]*(self.m*self.n), axis=0)\n",
        "      self.map = self.map + hstack*(xstack - self.map) \n",
        "\n",
        "    def fit(self, x=None):\n",
        "      if self.usePCA:\n",
        "        self.__initWithPCA(x)\n",
        "      self.map_history = [self.map]\n",
        "      \n",
        "      for epoch in tqdm(range(1, self.epochs+1)):\n",
        "        for i in np.random.permutation(len(x)):\n",
        "          bmu = self.__findbmu(x[i])\n",
        "          self.__update_weights(bmu, x[i], self.__neighborhoodFunction(bmu))\n",
        "\n",
        "        self.learning_rate = self.learning_rate0 / epoch\n",
        "        self.radius = self.radius0 * np.exp(-epoch/self.epochs)\n",
        "        self.map_history.append(self.map)\n",
        "      return self\n",
        "\n",
        "    def transform(self, x=None):\n",
        "      predictions = [self.__findbmu(v) for v in x] # bmu's indexes\n",
        "      return self.map_locations[predictions]\n",
        "\n",
        "    def fit_transform(self, x):\n",
        "      self.fit(x)\n",
        "      return self.transform(x)\n"
      ],
      "execution_count": 17,
      "outputs": []
    },
    {
      "cell_type": "markdown",
      "metadata": {
        "id": "iirkrqlDv2dR"
      },
      "source": [
        "# Testing"
      ]
    },
    {
      "cell_type": "code",
      "metadata": {
        "id": "IeyMDJkpxqY1",
        "colab": {
          "base_uri": "https://localhost:8080/"
        },
        "outputId": "14f1b258-6b66-48b3-86d2-b9a12b93885b"
      },
      "source": [
        "%%time\n",
        "som = SOM(3, 3, x.shape[1], epochs=25, usePCA=False, sigma=0.5)\n",
        "xfited = som.fit_transform(x)"
      ],
      "execution_count": 21,
      "outputs": [
        {
          "output_type": "stream",
          "name": "stderr",
          "text": [
            "100%|██████████| 25/25 [00:00<00:00, 57.56it/s]"
          ]
        },
        {
          "output_type": "stream",
          "name": "stdout",
          "text": [
            "CPU times: user 445 ms, sys: 13 ms, total: 458 ms\n",
            "Wall time: 451 ms\n"
          ]
        },
        {
          "output_type": "stream",
          "name": "stderr",
          "text": [
            "\n"
          ]
        }
      ]
    },
    {
      "cell_type": "markdown",
      "metadata": {
        "id": "6SCV46CYEtVn"
      },
      "source": [
        "# Visualization"
      ]
    },
    {
      "cell_type": "code",
      "metadata": {
        "id": "ax-FHwWqEv5_",
        "colab": {
          "base_uri": "https://localhost:8080/",
          "height": 516
        },
        "outputId": "d3520f4f-d888-4025-e313-5160041c3de8"
      },
      "source": [
        "from IPython.display import clear_output\n",
        "from time import sleep\n",
        "\n",
        "\n",
        "def plot(xtrain, ytrain, target_names, mapsom, epoch):\n",
        "  colors = ['mediumorchid', 'turquoise', 'darkorange']\n",
        "  plt.figure(figsize=(8, 8))\n",
        "  for color, i, target_name in zip(colors, [0, 1, 2], target_names):\n",
        "    plt.scatter(xtrain[ytrain == i, 0], xtrain[ytrain == i, 1], color=color, lw=2, label=target_name)\n",
        "  for node in mapsom:\n",
        "    plt.scatter(node[0], node[1], color='black', lw=2)\n",
        "\n",
        "  plt.legend(loc='best', shadow=False, scatterpoints=1)\n",
        "  plt.title('SOM training')\n",
        "  clear_output(wait=True)\n",
        "  plt.show()\n",
        "  print(\"epoch \", epoch)\n",
        "\n",
        "target_names = iris.target_names\n",
        "#target_names = \"aleatorio\"\n",
        "for i, mapsom in enumerate(som.map_history):\n",
        "  plot(x, y, target_names, mapsom, i)\n"
      ],
      "execution_count": 22,
      "outputs": [
        {
          "output_type": "display_data",
          "data": {
            "image/png": "[encoded data removed]",
            "text/plain": [
              "<Figure size 576x576 with 1 Axes>"
            ]
          },
          "metadata": {
            "needs_background": "light"
          }
        },
        {
          "output_type": "stream",
          "name": "stdout",
          "text": [
            "epoch  25\n"
          ]
        }
      ]
    },
    {
      "cell_type": "code",
      "metadata": {
        "colab": {
          "base_uri": "https://localhost:8080/"
        },
        "id": "__5FEDLM9Y8X",
        "outputId": "753a0cb0-6ea1-49cd-d45a-82280b837132"
      },
      "source": [
        "%%time\n",
        "mapsom1 = SOM(3, 3, x.shape[1], epochs=20, usePCA=False, sigma=1)\n",
        "mapsom1.fit(x)\n",
        "\n",
        "\n",
        "mapsom2 = SOM(3, 3, x.shape[1], epochs=20, usePCA=True, sigma=1)\n",
        "mapsom2.fit(x)"
      ],
      "execution_count": 6,
      "outputs": [
        {
          "output_type": "stream",
          "name": "stderr",
          "text": [
            "100%|██████████| 20/20 [00:00<00:00, 63.06it/s]\n",
            "100%|██████████| 20/20 [00:00<00:00, 53.73it/s]"
          ]
        },
        {
          "output_type": "stream",
          "name": "stdout",
          "text": [
            "CPU times: user 705 ms, sys: 31.2 ms, total: 737 ms\n",
            "Wall time: 731 ms\n"
          ]
        },
        {
          "output_type": "stream",
          "name": "stderr",
          "text": [
            "\n"
          ]
        }
      ]
    },
    {
      "cell_type": "markdown",
      "metadata": {
        "id": "xeDwIXQL-fDH"
      },
      "source": [
        "# Comparação"
      ]
    },
    {
      "cell_type": "code",
      "metadata": {
        "colab": {
          "base_uri": "https://localhost:8080/",
          "height": 499
        },
        "id": "4FyC9vjR9RZ_",
        "outputId": "77992687-50a8-42bb-b57c-01aa951c858e"
      },
      "source": [
        "colors = ['mediumorchid', 'turquoise', 'darkorange']\n",
        "plt.figure(figsize=(8, 8))\n",
        "for color, i, target_name in zip(colors, [0, 1, 2], target_names):\n",
        "  plt.scatter(x[y == i, 0], x[y == i, 1], color=color, lw=2, label=target_name)\n",
        "for node in mapsom1.map_history[0]:\n",
        "  plt.scatter(node[0], node[1], color='black', lw=2)\n",
        "\n",
        "plt.legend(loc='best', shadow=False, scatterpoints=1)\n",
        "plt.title('SOM training')\n",
        "plt.show()"
      ],
      "execution_count": 7,
      "outputs": [
        {
          "output_type": "display_data",
          "data": {
            "image/png": "[encoded data removed]",
            "text/plain": [
              "<Figure size 576x576 with 1 Axes>"
            ]
          },
          "metadata": {
            "needs_background": "light"
          }
        }
      ]
    },
    {
      "cell_type": "code",
      "metadata": {
        "colab": {
          "base_uri": "https://localhost:8080/",
          "height": 499
        },
        "id": "H6-QnOxb9l53",
        "outputId": "15871cc8-9453-491b-ad53-88fd1add38f9"
      },
      "source": [
        "colors = ['mediumorchid', 'turquoise', 'darkorange']\n",
        "plt.figure(figsize=(8, 8))\n",
        "for color, i, target_name in zip(colors, [0, 1, 2], target_names):\n",
        "  plt.scatter(x[y == i, 0], x[y == i, 1], color=color, lw=2, label=target_name)\n",
        "for node in mapsom2.map_history[0]:\n",
        "  plt.scatter(node[0], node[1], color='black', lw=2)\n",
        "\n",
        "plt.legend(loc='best', shadow=False, scatterpoints=1)\n",
        "plt.title('SOM training')\n",
        "plt.show()"
      ],
      "execution_count": 8,
      "outputs": [
        {
          "output_type": "display_data",
          "data": {
            "image/png": "[encoded data removed]",
            "text/plain": [
              "<Figure size 576x576 with 1 Axes>"
            ]
          },
          "metadata": {
            "needs_background": "light"
          }
        }
      ]
    }
  ]
}