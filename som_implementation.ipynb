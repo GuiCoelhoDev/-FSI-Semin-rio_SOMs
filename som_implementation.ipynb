{
  "nbformat": 4,
  "nbformat_minor": 0,
  "metadata": {
    "colab": {
      "name": "som_implementation.ipynb",
      "provenance": [],
      "collapsed_sections": [
        "xjaxF0tuHpND"
      ]
    },
    "kernelspec": {
      "name": "python3",
      "display_name": "Python 3"
    },
    "language_info": {
      "name": "python"
    }
  },
  "cells": [
    {
      "cell_type": "markdown",
      "metadata": {
        "id": "kFjkg04Vyc23"
      },
      "source": [
        "# Imports"
      ]
    },
    {
      "cell_type": "code",
      "metadata": {
        "id": "QWReFXVVu6DI",
        "colab": {
          "base_uri": "https://localhost:8080/"
        },
        "outputId": "5bf630a0-2b7b-4f16-95aa-5292d53d14bd"
      },
      "source": [
        "!pip install sklearn-som\n",
        "from sklearn_som.som import SOM as som_lib"
      ],
      "execution_count": null,
      "outputs": [
        {
          "output_type": "stream",
          "name": "stdout",
          "text": [
            "Collecting sklearn-som\n",
            "  Downloading sklearn_som-1.1.0-py3-none-any.whl (6.7 kB)\n",
            "Requirement already satisfied: numpy in /usr/local/lib/python3.7/dist-packages (from sklearn-som) (1.19.5)\n",
            "Installing collected packages: sklearn-som\n",
            "Successfully installed sklearn-som-1.1.0\n"
          ]
        }
      ]
    },
    {
      "cell_type": "code",
      "metadata": {
        "id": "z4RzeggEyars"
      },
      "source": [
        "import numpy as np\n",
        "import pandas as pd\n",
        "from sklearn.model_selection import train_test_split\n",
        "from sklearn.decomposition import PCA\n",
        "from sklearn.preprocessing import MinMaxScaler\n",
        "from tqdm import tqdm\n",
        "import matplotlib.pyplot as plt\n",
        "\n",
        "# datasets\n",
        "from sklearn.datasets import fetch_covtype\n",
        "from sklearn.datasets import load_iris"
      ],
      "execution_count": null,
      "outputs": []
    },
    {
      "cell_type": "markdown",
      "metadata": {
        "id": "7HTEK8rAyfEm"
      },
      "source": [
        "# Dataset"
      ]
    },
    {
      "cell_type": "code",
      "metadata": {
        "id": "y915wW9lygQH"
      },
      "source": [
        "iris = load_iris()\n",
        "x = iris.data[:,2:]\n",
        "y = iris.target\n",
        "\n",
        "# x = np.random.random((1000, 2))\n",
        "# y = np.ones(1000)"
      ],
      "execution_count": null,
      "outputs": []
    },
    {
      "cell_type": "code",
      "metadata": {
        "id": "tNugHxErysvu"
      },
      "source": [
        "x = MinMaxScaler().fit_transform(x)"
      ],
      "execution_count": null,
      "outputs": []
    },
    {
      "cell_type": "markdown",
      "metadata": {
        "id": "xjaxF0tuHpND"
      },
      "source": [
        "# Using SOM from sklearn_som"
      ]
    },
    {
      "cell_type": "code",
      "metadata": {
        "id": "ylZ0Cns4HwQy",
        "colab": {
          "base_uri": "https://localhost:8080/"
        },
        "outputId": "aee9d285-c16c-4319-a1ae-dc7a8159493f"
      },
      "source": [
        "%%time\n",
        "somlib = som_lib(m=3, n=3, dim=xtrain.shape[1])\n",
        "somlib.fit(xtrain)\n",
        "predictions = somlib.predict(xtrain)\n",
        "print(len(predictions))\n",
        "newx = somlib._locations[predictions]"
      ],
      "execution_count": null,
      "outputs": [
        {
          "output_type": "stream",
          "name": "stdout",
          "text": [
            "112\n",
            "CPU times: user 20.8 ms, sys: 0 ns, total: 20.8 ms\n",
            "Wall time: 20.8 ms\n"
          ]
        }
      ]
    },
    {
      "cell_type": "markdown",
      "metadata": {
        "id": "3vPvYvxP1TNt"
      },
      "source": [
        "# SOM"
      ]
    },
    {
      "cell_type": "code",
      "metadata": {
        "id": "wiPvEi2V1UlU"
      },
      "source": [
        "class SOM():\n",
        "    def __init__(self, m=3, n=3, dim=2, sigma=0.05, epochs=20, learning_rate=0.85, usePCA=False):\n",
        "        \"\"\"\n",
        "        Parameters\n",
        "        ----------\n",
        "        m : int, default=3\n",
        "            The shape along dimension 0 (vertical) of the SOM.\n",
        "        n : int, default=3\n",
        "            The shape along dimesnion 1 (horizontal) of the SOM.\n",
        "        \"\"\"\n",
        "        # Initialize descriptive features of SOM\n",
        "        self.usePCA = usePCA\n",
        "        self.m = m\n",
        "        self.n = n\n",
        "        self.epochs = epochs\n",
        "        self.dim = dim\n",
        "        self.learning_rate = learning_rate\n",
        "        self.learning_rate0 = learning_rate\n",
        "        self.radius = sigma\n",
        "        self.radius0 = self.radius \n",
        "\n",
        "        self.predictions = None\n",
        "  \n",
        "        self.map = np.random.random((m*n, dim))\n",
        "        self.map_locations = np.argwhere(np.ones(shape=(m, n)))\n",
        "        \n",
        " \n",
        "\n",
        "    def __initWithPCA(self, x=None):\n",
        "      principalaxes = PCA(2).fit(x).components_\n",
        "      a1 = np.random.random((self.m, self.dim))\n",
        "      a2 = np.random.random((self.n, self.dim))\n",
        "      self.map = np.array([a1[m]*principalaxes[0] + a2[n]*principalaxes[1] for m in range(self.m) for n in range(self.n)])\n",
        "\n",
        "    def __euclidian(self, v1, v2):\n",
        "      return np.linalg.norm(v1-v2, axis=1)\n",
        "\n",
        "\n",
        "    def __findbmu(self, v):\n",
        "      distances = self.__euclidian(v, self.map)\n",
        "      bmu = np.argmin(distances)\n",
        "      return bmu\n",
        "\n",
        "    # neighborhood function\n",
        "    def __neighborhoodFunction(self, bmu):\n",
        "      bmu_location = self.map_locations[bmu]\n",
        "      bmu_location_stack = np.stack([bmu_location]*(self.m*self.n), axis=0)\n",
        "      distances = self.__euclidian(bmu_location_stack, self.map_locations) # distances from neighborhood indices\n",
        "      h = self.learning_rate * np.exp((- distances / (2 * self.radius**2))) # list of hci for each node\n",
        "      hstack = np.stack([h]*(self.dim), axis=1)\n",
        "      return hstack\n",
        "    \n",
        "    def __update_weights(self, bmu, x, hstack):\n",
        "      xstack = np.stack([x]*(self.m*self.n), axis=0)\n",
        "      self.map = self.map + hstack*(xstack - self.map) \n",
        "\n",
        "    def fit(self, x=None):\n",
        "      if self.usePCA:\n",
        "        self.__initWithPCA(x)\n",
        "      self.map_history = [self.map]\n",
        "      \n",
        "      for epoch in tqdm(range(1, self.epochs+1)):\n",
        "\n",
        "        self.predictions = [self.__findbmu(v) for v in x] # bmu's indexes\n",
        "        for i, bmu in enumerate(self.predictions):\n",
        "          self.__update_weights(bmu, x[i], self.__neighborhoodFunction(bmu))\n",
        "\n",
        "        self.learning_rate = self.learning_rate0 / epoch\n",
        "        self.radius = self.radius0 * np.exp(-epoch/self.epochs)\n",
        "        self.map_history.append(self.map)\n",
        "      return self\n",
        "\n",
        "    def transform(self, x=None):\n",
        "      predictions = [self.__findbmu(v) for v in x] # bmu's indexes\n",
        "      return self.map_locations[predictions]\n",
        "\n",
        "    def fit_transform(self, x):\n",
        "      self.fit(x)\n",
        "      return self.transform(x)\n"
      ],
      "execution_count": null,
      "outputs": []
    },
    {
      "cell_type": "markdown",
      "metadata": {
        "id": "iirkrqlDv2dR"
      },
      "source": [
        "# Testing"
      ]
    },
    {
      "cell_type": "code",
      "metadata": {
        "id": "IeyMDJkpxqY1",
        "colab": {
          "base_uri": "https://localhost:8080/"
        },
        "outputId": "ea4dda8f-6477-4bdc-c908-b3f4af93b349"
      },
      "source": [
        "%%time\n",
        "som = SOM(3, 3, xtrain.shape[1], epochs=20, usePCA=True, sigma=1)\n",
        "xfited = som.fit_transform(x)"
      ],
      "execution_count": null,
      "outputs": [
        {
          "output_type": "stream",
          "name": "stderr",
          "text": [
            "100%|██████████| 20/20 [00:00<00:00, 71.78it/s]"
          ]
        },
        {
          "output_type": "stream",
          "name": "stdout",
          "text": [
            "CPU times: user 291 ms, sys: 9.21 ms, total: 300 ms\n",
            "Wall time: 290 ms\n"
          ]
        },
        {
          "output_type": "stream",
          "name": "stderr",
          "text": [
            "\n"
          ]
        }
      ]
    },
    {
      "cell_type": "markdown",
      "metadata": {
        "id": "6SCV46CYEtVn"
      },
      "source": [
        "# Visualization"
      ]
    },
    {
      "cell_type": "code",
      "metadata": {
        "id": "ax-FHwWqEv5_",
        "colab": {
          "base_uri": "https://localhost:8080/",
          "height": 516
        },
        "outputId": "a3579568-9a9c-4c89-deb8-8707e5284650"
      },
      "source": [
        "from IPython.display import clear_output\n",
        "from time import sleep\n",
        "\n",
        "\n",
        "def plot(xtrain, ytrain, target_names, mapsom, epoch):\n",
        "  colors = ['mediumorchid', 'turquoise', 'darkorange']\n",
        "  plt.figure(figsize=(8, 8))\n",
        "  for color, i, target_name in zip(colors, [0, 1, 2], target_names):\n",
        "    plt.scatter(xtrain[ytrain == i, 0], xtrain[ytrain == i, 1], color=color, lw=2, label=target_name)\n",
        "  for node in mapsom:\n",
        "    plt.scatter(node[0], node[1], color='black', lw=2)\n",
        "\n",
        "  plt.legend(loc='best', shadow=False, scatterpoints=1)\n",
        "  plt.title('SOM training')\n",
        "  clear_output(wait=True)\n",
        "  plt.show()\n",
        "  print(\"epoch \", epoch)\n",
        "\n",
        "#target_names = iris.target_names\n",
        "target_names = \"aleatorio\"\n",
        "for i, mapsom in enumerate(som.map_history):\n",
        "  plot(x, y, target_names, mapsom, i)\n"
      ],
      "execution_count": null,
      "outputs": [
        {
          "output_type": "display_data",
          "data": {
            "image/png": "[encoded data removed]",
            "text/plain": [
              "<Figure size 576x576 with 1 Axes>"
            ]
          },
          "metadata": {
            "needs_background": "light"
          }
        },
        {
          "output_type": "stream",
          "name": "stdout",
          "text": [
            "epoch  20\n"
          ]
        }
      ]
    },
    {
      "cell_type": "code",
      "metadata": {
        "colab": {
          "base_uri": "https://localhost:8080/"
        },
        "id": "__5FEDLM9Y8X",
        "outputId": "b598481b-89c7-4ccc-eed9-b7cf627d9662"
      },
      "source": [
        "%%time\n",
        "mapsom1 = SOM(3, 3, x.shape[1], epochs=20, usePCA=False, sigma=1)\n",
        "mapsom1.fit(x)\n",
        "\n",
        "\n",
        "mapsom2 = SOM(3, 3, x.shape[1], epochs=20, usePCA=True, sigma=1)\n",
        "mapsom2.fit(x)"
      ],
      "execution_count": null,
      "outputs": [
        {
          "output_type": "stream",
          "name": "stderr",
          "text": [
            "100%|██████████| 20/20 [00:00<00:00, 78.63it/s]\n",
            "100%|██████████| 20/20 [00:00<00:00, 73.41it/s]"
          ]
        },
        {
          "output_type": "stream",
          "name": "stdout",
          "text": [
            "CPU times: user 536 ms, sys: 10.2 ms, total: 547 ms\n",
            "Wall time: 547 ms\n"
          ]
        },
        {
          "output_type": "stream",
          "name": "stderr",
          "text": [
            "\n"
          ]
        }
      ]
    },
    {
      "cell_type": "markdown",
      "metadata": {
        "id": "xeDwIXQL-fDH"
      },
      "source": [
        "# Comparação"
      ]
    },
    {
      "cell_type": "code",
      "metadata": {
        "colab": {
          "base_uri": "https://localhost:8080/",
          "height": 499
        },
        "id": "4FyC9vjR9RZ_",
        "outputId": "5f240155-1ff9-4d21-9d99-2add7f29c044"
      },
      "source": [
        "colors = ['mediumorchid', 'turquoise', 'darkorange']\n",
        "plt.figure(figsize=(8, 8))\n",
        "for color, i, target_name in zip(colors, [0, 1, 2], target_names):\n",
        "  plt.scatter(x[y == i, 0], x[y == i, 1], color=color, lw=2, label=target_name)\n",
        "for node in mapsom1.map_history[0]:\n",
        "  plt.scatter(node[0], node[1], color='black', lw=2)\n",
        "\n",
        "plt.legend(loc='best', shadow=False, scatterpoints=1)\n",
        "plt.title('SOM training')\n",
        "plt.show()"
      ],
      "execution_count": null,
      "outputs": [
        {
          "output_type": "display_data",
          "data": {
            "image/png": "[encoded data removed]",
            "text/plain": [
              "<Figure size 576x576 with 1 Axes>"
            ]
          },
          "metadata": {
            "needs_background": "light"
          }
        }
      ]
    },
    {
      "cell_type": "code",
      "metadata": {
        "colab": {
          "base_uri": "https://localhost:8080/",
          "height": 499
        },
        "id": "H6-QnOxb9l53",
        "outputId": "ab1a6d91-c3ac-43c6-b1ab-2a6296c5bb1a"
      },
      "source": [
        "colors = ['mediumorchid', 'turquoise', 'darkorange']\n",
        "plt.figure(figsize=(8, 8))\n",
        "for color, i, target_name in zip(colors, [0, 1, 2], target_names):\n",
        "  plt.scatter(xtrain[ytrain == i, 0], xtrain[ytrain == i, 1], color=color, lw=2, label=target_name)\n",
        "for node in mapsom2.map_history[0]:\n",
        "  plt.scatter(node[0], node[1], color='black', lw=2)\n",
        "\n",
        "plt.legend(loc='best', shadow=False, scatterpoints=1)\n",
        "plt.title('SOM training')\n",
        "plt.show()"
      ],
      "execution_count": null,
      "outputs": [
        {
          "output_type": "display_data",
          "data": {
            "image/png": "[encoded data removed]",
            "text/plain": [
              "<Figure size 576x576 with 1 Axes>"
            ]
          },
          "metadata": {
            "needs_background": "light"
          }
        }
      ]
    }
  ]
}